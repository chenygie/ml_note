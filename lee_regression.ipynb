{
 "cells": [
  {
   "cell_type": "code",
   "execution_count": 5,
   "metadata": {},
   "outputs": [
    {
     "name": "stdout",
     "output_type": "stream",
     "text": [
      "Python 3.5.4\r\n"
     ]
    }
   ],
   "source": [
    "!python3 -V"
   ]
  },
  {
   "cell_type": "code",
   "execution_count": 40,
   "metadata": {},
   "outputs": [],
   "source": [
    "import numpy as np\n",
    "from matplotlib import pyplot as plt"
   ]
  },
  {
   "cell_type": "code",
   "execution_count": 11,
   "metadata": {},
   "outputs": [],
   "source": [
    "x_data = [338.,333.,328.,207.,226.,25.,179.,60.,208.,606.]\n",
    "y_data = [640.,633.,617.,393.,428.,27.,193.,66.,226.,1591.]\n",
    "# ydata = b + w*xdata"
   ]
  },
  {
   "cell_type": "code",
   "execution_count": 36,
   "metadata": {},
   "outputs": [],
   "source": [
    "x = np.arange(-200,-100,1) #bias\n",
    "y = np.arange(-5,5,0.1) #weight\n",
    "Z = np.zeros((len(x),len(y)))\n",
    "X,Y = np.meshgrid(x,y)\n",
    "for i in range(len(x)):\n",
    "    for j in range(len(y)):\n",
    "        b = x[i]\n",
    "        w = y[j]\n",
    "        Z[i][j] = 0\n",
    "        for n in range(len(x_data)):\n",
    "            Z[j][i] = Z[j][i] + (y_data[n] - b - w*x_data[n])**2\n",
    "        Z[j][i] = Z[j][i]/len(x_data) "
   ]
  },
  {
   "cell_type": "code",
   "execution_count": 57,
   "metadata": {
    "scrolled": true
   },
   "outputs": [
    {
     "data": {
      "image/png": "[encoded data removed]",
      "text/plain": [
       "<matplotlib.figure.Figure at 0x12744ce48>"
      ]
     },
     "metadata": {},
     "output_type": "display_data"
    }
   ],
   "source": [
    "# ydata = b + w * xdata\n",
    "b = -120 # initial b\n",
    "w = -4  # initial w\n",
    "lr = 1 # learning rate\n",
    "iteration = 100000\n",
    "b_history = [b]\n",
    "w_history = [w]\n",
    "lr_b =0  \n",
    "lr_w =0\n",
    "# iterations\n",
    "for i in range(iteration):\n",
    "    b_grad = 0.0\n",
    "    w_grad = 0.0\n",
    "    for n in range(len(x_data)):\n",
    "        b_grad = b_grad - 2.*(y_data[n] - b - w * x_data[n])*1.0\n",
    "        w_grad = w_grad - 2.*(y_data[n] - b - w * x_data[n])*x_data[n]\n",
    "    lr_b = lr_b + b_grad**2\n",
    "    lr_w = lr_w + w_grad**2\n",
    "    \n",
    "    # update parameters.\n",
    "    b = b - lr/np.sqrt(lr_b)*b_grad\n",
    "    w = w - lr/np.sqrt(lr_w)*w_grad\n",
    "    \n",
    "    # store parameter for plotting\n",
    "    b_history.append(b)\n",
    "    w_history.append(w)\n",
    "#plot the figure \n",
    "\n",
    "plt.contourf(x,y,Z,50,alpha = 0.5,cmap=plt.get_cmap('jet'))\n",
    "plt.plot([-188.4],[2.67],'x',ms=12,markeredgewidth=3,color='orange')\n",
    "plt.plot(b_history,w_history,'o-',ms=3,lw=1.5,color='black')\n",
    "plt.xlim(-200,-100)\n",
    "plt.ylim(-5,5)\n",
    "plt.xlabel('$b$',fontsize=16)\n",
    "plt.ylabel('$w$',fontsize=16)\n",
    "plt.show()"
   ]
  }
 ],
 "metadata": {
  "kernelspec": {
   "display_name": "Python 3",
   "language": "python",
   "name": "python3"
  },
  "language_info": {
   "codemirror_mode": {
    "name": "ipython",
    "version": 3
   },
   "file_extension": ".py",
   "mimetype": "text/x-python",
   "name": "python",
   "nbconvert_exporter": "python",
   "pygments_lexer": "ipython3",
   "version": "3.5.4"
  }
 },
 "nbformat": 4,
 "nbformat_minor": 2
}
