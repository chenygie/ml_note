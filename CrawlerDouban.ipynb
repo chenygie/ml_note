{
 "cells": [
  {
   "cell_type": "code",
   "execution_count": 2,
   "metadata": {},
   "outputs": [],
   "source": [
    "from  bs4 import BeautifulSoup\n",
    "import requests"
   ]
  },
  {
   "cell_type": "code",
   "execution_count": 4,
   "metadata": {},
   "outputs": [],
   "source": [
    "response = requests.get('https://movie.douban.com/subject/3445906/')\n",
    "bs = BeautifulSoup(response.text,'lxml')\n",
    "name = bs.find('span',attrs={'property':'v:itemreviewed'}).text\n",
    "score = bs.find('strong',attrs={'property':'v:average'}).text\n",
    "summary = bs.find('div',id='link-report').text.strip()"
   ]
  },
  {
   "cell_type": "code",
   "execution_count": 6,
   "metadata": {
    "scrolled": true
   },
   "outputs": [
    {
     "name": "stdout",
     "output_type": "stream",
     "text": [
      "古墓丽影：源起之战 Tomb Raider 6.4\n"
     ]
    }
   ],
   "source": [
    "print(name,score)"
   ]
  },
  {
   "cell_type": "code",
   "execution_count": 7,
   "metadata": {},
   "outputs": [
    {
     "name": "stdout",
     "output_type": "stream",
     "text": [
      "劳拉·克劳馥年少时，她的冒险家父亲突然神秘消失。她拒绝接受父亲已经去世的事实，并暗下决心要解开父亲神秘死亡的谜团。\n",
      "                                    \n",
      "                                　　放下眼前的一切，劳拉前往父亲最后出现的地方探寻——一座传说中的古墓，位于日本附近某个神秘岛上。要踏上这场未知的旅程，她必须以敏锐的头脑、坚定的信仰和顽强的精神武装自己，并迫使自己超越极限。如果她能在这场危机四伏的冒险中存活下来，她才可能成长为名副其实的——“古墓丽影”。\n"
     ]
    }
   ],
   "source": [
    "print(summary)"
   ]
  }
 ],
 "metadata": {
  "kernelspec": {
   "display_name": "Python 3",
   "language": "python",
   "name": "python3"
  },
  "language_info": {
   "codemirror_mode": {
    "name": "ipython",
    "version": 3
   },
   "file_extension": ".py",
   "mimetype": "text/x-python",
   "name": "python",
   "nbconvert_exporter": "python",
   "pygments_lexer": "ipython3",
   "version": "3.5.4"
  }
 },
 "nbformat": 4,
 "nbformat_minor": 2
}
